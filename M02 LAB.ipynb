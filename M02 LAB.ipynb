{
 "cells": [
  {
   "cell_type": "code",
   "execution_count": 1,
   "id": "54faadd3",
   "metadata": {},
   "outputs": [
    {
     "name": "stdout",
     "output_type": "stream",
     "text": [
      "Enter your last name: Finley\n",
      "Enter your first name: Adler\n",
      "Enter your GPA: 3.3\n",
      "The studnet has made the Honor Roll\n",
      "Enter your last name: Hawk\n",
      "Enter your first name: Ahston\n",
      "Enter your GPA: 3.6\n",
      "The student has made the Dean's List\n",
      "Enter your last name: Clive\n",
      "Enter your first name: Hugo\n",
      "Enter your GPA: 3.8\n",
      "The student has made the Dean's List\n",
      "Enter your last name: Ronan\n",
      "Enter your first name: Forest\n",
      "Enter your GPA: 3.26\n",
      "The studnet has made the Honor Roll\n",
      "Enter your last name: ZZZ\n"
     ]
    }
   ],
   "source": [
    "# Name: Trang Huffman\n",
    "# The file name for the app: Qualification for the Dean's List or the Honor Roll\n",
    "# A brief description: The app that will accept student names and GPAs and test if the student qualifies for either the Dean's List or the Honor Roll. \n",
    "\n",
    "last_name = input(\"Enter your last name: \")\n",
    "while last_name != 'ZZZ':\n",
    "    first_name = input(\"Enter your first name: \")\n",
    "    GPA = float(input(\"Enter your GPA: \"))\n",
    "    if GPA >= 3.5:\n",
    "        print (\"The student has made the Dean's List\")\n",
    "    elif GPA >= 3.25:\n",
    "        print (\"The studnet has made the Honor Roll\")\n",
    "    last_name = input(\"Enter your last name: \")"
   ]
  }
 ],
 "metadata": {
  "kernelspec": {
   "display_name": "Python 3 (ipykernel)",
   "language": "python",
   "name": "python3"
  },
  "language_info": {
   "codemirror_mode": {
    "name": "ipython",
    "version": 3
   },
   "file_extension": ".py",
   "mimetype": "text/x-python",
   "name": "python",
   "nbconvert_exporter": "python",
   "pygments_lexer": "ipython3",
   "version": "3.9.13"
  }
 },
 "nbformat": 4,
 "nbformat_minor": 5
}
